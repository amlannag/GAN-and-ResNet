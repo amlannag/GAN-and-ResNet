{
 "cells": [
  {
   "cell_type": "code",
   "execution_count": 1,
   "metadata": {},
   "outputs": [
    {
     "name": "stderr",
     "output_type": "stream",
     "text": [
      "/Users/amlannag/anaconda3/lib/python3.10/site-packages/pandas/core/arrays/masked.py:60: UserWarning: Pandas requires version '1.3.6' or newer of 'bottleneck' (version '1.3.5' currently installed).\n",
      "  from pandas.core import (\n"
     ]
    }
   ],
   "source": [
    "import tensorflow as tf\n",
    "from tensorflow.keras.layers import Input, Conv2D, MaxPooling2D, Flatten, Dense\n",
    "from tensorflow.keras.models import Model\n",
    "from tensorflow.keras.utils import to_categorical\n",
    "from tensorflow.keras.datasets import mnist\n",
    "from sklearn.datasets import fetch_lfw_people\n",
    "from sklearn.model_selection import train_test_split\n",
    "from sklearn.metrics import classification_report\n",
    "import numpy as np\n",
    "import matplotlib.pyplot as plt"
   ]
  },
  {
   "cell_type": "code",
   "execution_count": 2,
   "metadata": {},
   "outputs": [],
   "source": [
    "#Loads the data using tensorflow library \n",
    "fw_people = fetch_lfw_people(min_faces_per_person=70, resize=0.4)"
   ]
  },
  {
   "cell_type": "code",
   "execution_count": 3,
   "metadata": {},
   "outputs": [
    {
     "name": "stdout",
     "output_type": "stream",
     "text": [
      "X_min: 0.0 X_train_max: 1.0\n",
      "X_train shape: (901, 50, 37, 1)\n"
     ]
    }
   ],
   "source": [
    "#The images from the data set\n",
    "X = lfw_people.images\n",
    "#The labels from the data set\n",
    "Y = lfw_people.target\n",
    "#Prints the max and mean to see if it has been normalised in greyscale \n",
    "print(\"X_min:\",X.min(),\"X_train_max:\", X.max())\n",
    "#Splits into testing and training\n",
    "X_train, X_test, y_train, y_test = train_test_split(X, Y, test_size=0.3, random_state=42)\n",
    "#TF and numpy require 4d arrays, this new axis represents the number of chanels \n",
    "#in the data which is 1 as we are using grey scale \n",
    "X_train = X_train[:, :, :,np.newaxis]\n",
    "X_test = X_test[:, :, :,np.newaxis]\n",
    "print(\"X_train shape:\", X_train.shape)"
   ]
  },
  {
   "cell_type": "code",
   "execution_count": 4,
   "metadata": {},
   "outputs": [],
   "source": [
    "#Records the number of samples and height/weidth of the images\n",
    "n_samples, h, w = lfw_people.images.shape\n",
    "#Records the number of classes in teh y_train\n",
    "n_classes = len(np.unique(y_train))\n",
    "#The batch size used\n",
    "batch_size = 80\n",
    "#The number of categories we have \n",
    "categories = n_classes"
   ]
  },
  {
   "cell_type": "code",
   "execution_count": 5,
   "metadata": {},
   "outputs": [],
   "source": [
    "#Takes in an image of height h and width w\n",
    "inputs = Input(shape=(h,w,1))\n",
    "#Creates 32 convolutions/feature maps \n",
    "net1 = Conv2D(filters = 32, kernel_size = (3,3), padding=\"same\", activation=\"relu\")(inputs)\n",
    "#Down sampling preserves the important information\n",
    "pool1 = MaxPooling2D(pool_size=(2,2))(net1)\n",
    "#2nd convolutional layer\n",
    "net2 = Conv2D(filters = 32, kernel_size = (3,3), padding=\"same\", activation=\"relu\")(pool1)\n",
    "#2nd max pooling layer\n",
    "pool2 = MaxPooling2D(pool_size=(2,2))(net2)\n",
    "#Flattens the 2d data into 1D vector so it can be fed to the fully connected layer \n",
    "flat = Flatten()(pool2)\n",
    "#Find the optimal information from the convoutions to output the \n",
    "net3 = Dense(128, activation=\"relu\")(flat)\n",
    "#Turns value from 0-1 using sigmoid function. \n",
    "output = Dense(categories, activation=\"softmax\")(net3)"
   ]
  },
  {
   "cell_type": "code",
   "execution_count": 6,
   "metadata": {},
   "outputs": [],
   "source": [
    "#Changing the output to probabilities using onehot encoding\n",
    "y_train_cat = to_categorical(y_train, categories)\n",
    "y_test_cat = to_categorical(y_test, categories)"
   ]
  },
  {
   "cell_type": "code",
   "execution_count": 7,
   "metadata": {},
   "outputs": [
    {
     "name": "stdout",
     "output_type": "stream",
     "text": [
      "Epoch 1/15\n",
      "\u001b[1m12/12\u001b[0m \u001b[32m━━━━━━━━━━━━━━━━━━━━\u001b[0m\u001b[37m\u001b[0m \u001b[1m2s\u001b[0m 83ms/step - accuracy: 0.3757 - loss: 1.7606 - val_accuracy: 0.4289 - val_loss: 1.6842\n",
      "Epoch 2/15\n",
      "\u001b[1m12/12\u001b[0m \u001b[32m━━━━━━━━━━━━━━━━━━━━\u001b[0m\u001b[37m\u001b[0m \u001b[1m1s\u001b[0m 97ms/step - accuracy: 0.4036 - loss: 1.6955 - val_accuracy: 0.4289 - val_loss: 1.6229\n",
      "Epoch 3/15\n",
      "\u001b[1m12/12\u001b[0m \u001b[32m━━━━━━━━━━━━━━━━━━━━\u001b[0m\u001b[37m\u001b[0m \u001b[1m1s\u001b[0m 113ms/step - accuracy: 0.4219 - loss: 1.6328 - val_accuracy: 0.4289 - val_loss: 1.5762\n",
      "Epoch 4/15\n",
      "\u001b[1m12/12\u001b[0m \u001b[32m━━━━━━━━━━━━━━━━━━━━\u001b[0m\u001b[37m\u001b[0m \u001b[1m1s\u001b[0m 75ms/step - accuracy: 0.4172 - loss: 1.5921 - val_accuracy: 0.4341 - val_loss: 1.4910\n",
      "Epoch 5/15\n",
      "\u001b[1m12/12\u001b[0m \u001b[32m━━━━━━━━━━━━━━━━━━━━\u001b[0m\u001b[37m\u001b[0m \u001b[1m1s\u001b[0m 74ms/step - accuracy: 0.4606 - loss: 1.4746 - val_accuracy: 0.5504 - val_loss: 1.3978\n",
      "Epoch 6/15\n",
      "\u001b[1m12/12\u001b[0m \u001b[32m━━━━━━━━━━━━━━━━━━━━\u001b[0m\u001b[37m\u001b[0m \u001b[1m1s\u001b[0m 74ms/step - accuracy: 0.5459 - loss: 1.3268 - val_accuracy: 0.5401 - val_loss: 1.2411\n",
      "Epoch 7/15\n",
      "\u001b[1m12/12\u001b[0m \u001b[32m━━━━━━━━━━━━━━━━━━━━\u001b[0m\u001b[37m\u001b[0m \u001b[1m1s\u001b[0m 86ms/step - accuracy: 0.5839 - loss: 1.1935 - val_accuracy: 0.6512 - val_loss: 1.1356\n",
      "Epoch 8/15\n",
      "\u001b[1m12/12\u001b[0m \u001b[32m━━━━━━━━━━━━━━━━━━━━\u001b[0m\u001b[37m\u001b[0m \u001b[1m1s\u001b[0m 74ms/step - accuracy: 0.6568 - loss: 1.0482 - val_accuracy: 0.6460 - val_loss: 0.9706\n",
      "Epoch 9/15\n",
      "\u001b[1m12/12\u001b[0m \u001b[32m━━━━━━━━━━━━━━━━━━━━\u001b[0m\u001b[37m\u001b[0m \u001b[1m1s\u001b[0m 75ms/step - accuracy: 0.7084 - loss: 0.8533 - val_accuracy: 0.6744 - val_loss: 0.8572\n",
      "Epoch 10/15\n",
      "\u001b[1m12/12\u001b[0m \u001b[32m━━━━━━━━━━━━━━━━━━━━\u001b[0m\u001b[37m\u001b[0m \u001b[1m1s\u001b[0m 85ms/step - accuracy: 0.7298 - loss: 0.7321 - val_accuracy: 0.7933 - val_loss: 0.7496\n",
      "Epoch 11/15\n",
      "\u001b[1m12/12\u001b[0m \u001b[32m━━━━━━━━━━━━━━━━━━━━\u001b[0m\u001b[37m\u001b[0m \u001b[1m1s\u001b[0m 82ms/step - accuracy: 0.8339 - loss: 0.5564 - val_accuracy: 0.7881 - val_loss: 0.6473\n",
      "Epoch 12/15\n",
      "\u001b[1m12/12\u001b[0m \u001b[32m━━━━━━━━━━━━━━━━━━━━\u001b[0m\u001b[37m\u001b[0m \u001b[1m1s\u001b[0m 79ms/step - accuracy: 0.8558 - loss: 0.4844 - val_accuracy: 0.8010 - val_loss: 0.6068\n",
      "Epoch 13/15\n",
      "\u001b[1m12/12\u001b[0m \u001b[32m━━━━━━━━━━━━━━━━━━━━\u001b[0m\u001b[37m\u001b[0m \u001b[1m1s\u001b[0m 81ms/step - accuracy: 0.8754 - loss: 0.4283 - val_accuracy: 0.8140 - val_loss: 0.6068\n",
      "Epoch 14/15\n",
      "\u001b[1m12/12\u001b[0m \u001b[32m━━━━━━━━━━━━━━━━━━━━\u001b[0m\u001b[37m\u001b[0m \u001b[1m1s\u001b[0m 81ms/step - accuracy: 0.8881 - loss: 0.4101 - val_accuracy: 0.8140 - val_loss: 0.5620\n",
      "Epoch 15/15\n",
      "\u001b[1m12/12\u001b[0m \u001b[32m━━━━━━━━━━━━━━━━━━━━\u001b[0m\u001b[37m\u001b[0m \u001b[1m1s\u001b[0m 81ms/step - accuracy: 0.8986 - loss: 0.3177 - val_accuracy: 0.8372 - val_loss: 0.5385\n"
     ]
    },
    {
     "data": {
      "text/plain": [
       "<keras.src.callbacks.history.History at 0x301c9c5e0>"
      ]
     },
     "execution_count": 7,
     "metadata": {},
     "output_type": "execute_result"
    }
   ],
   "source": [
    "#Defines the model\n",
    "model = Model(inputs, output)\n",
    "#Creating the optimise\n",
    "model.compile(optimizer= tf.keras.optimizers.Adam(learning_rate=0.001), loss='categorical_crossentropy', metrics=['accuracy'])\n",
    "\n",
    "#Runs training and does back proagation\n",
    "model.fit(X_train, y_train_cat,\n",
    "                epochs=15,\n",
    "                batch_size=batch_size,\n",
    "                shuffle=True,\n",
    "                validation_data=(X_test, y_test_cat))"
   ]
  },
  {
   "cell_type": "code",
   "execution_count": 8,
   "metadata": {},
   "outputs": [
    {
     "name": "stdout",
     "output_type": "stream",
     "text": [
      "\u001b[1m13/13\u001b[0m \u001b[32m━━━━━━━━━━━━━━━━━━━━\u001b[0m\u001b[37m\u001b[0m \u001b[1m0s\u001b[0m 9ms/step\n",
      "[3 3 6 3 3 3 4 1 3 3 3 3 3 4 3 3 3 3 3 4 1 0 3 0 0 1 0 3 3 3 2 3 3 3 3 3 3\n",
      " 3 3 1 3 1 3 1 1 1 4 3 0 3 3 3 0 3 6 2 1 3 5 3 1 1 0 4 0 5 6 4 1 3 6 6 3 3\n",
      " 3 2 1 6 6 6 3 0 4 3 3 3 3 3 3 3 3 6 3 4 1 6 1 1 6 6 3 1 3 1 3 3 3 3 3 1 4\n",
      " 1 4 4 3 1 3 4 1 3 1 3 3 0 3 4 4 6 1 3 6 6 6 3 4 4 3 3 0 6 2 2 5 1 3 5 1 3\n",
      " 6 1 1 1 1 3 3 3 6 0 1 0 6 5 5 1 3 1 5 1 0 3 1 1 6 1 5 6 3 2 2 4 3 3 3 6 3\n",
      " 3 3 3 3 2 3 2 3 2 6 3 3 6 3 6 3 2 1 2 3 2 6 2 0 6 1 5 3 3 3 3 3 0 0 1 2 3\n",
      " 1 1 6 3 3 3 1 3 3 3 1 0 3 1 6 6 6 3 3 1 6 4 3 0 3 3 3 4 4 3 3 0 3 4 3 1 6\n",
      " 0 3 3 6 1 3 6 6 1 6 6 1 1 3 3 6 3 3 3 3 3 1 2 3 3 1 0 3 3 3 4 3 3 5 1 3 1\n",
      " 4 5 3 6 3 6 6 2 1 3 1 3 1 3 3 3 0 6 3 3 6 1 3 1 5 6 0 1 2 5 4 6 3 6 6 5 2\n",
      " 3 4 1 6 4 3 3 2 3 6 3 1 6 1 3 0 1 6 0 6 5 3 1 3 1 6 3 3 2 3 0 1 0 3 6 3 3\n",
      " 3 3 3 6 4 3 0 0 1 3 6 4 3 3 6 6 0]\n",
      "              precision    recall  f1-score   support\n",
      "\n",
      "           0       0.48      0.83      0.61        18\n",
      "           1       0.88      0.88      0.88        69\n",
      "           2       0.90      0.56      0.69        34\n",
      "           3       0.93      0.91      0.92       166\n",
      "           4       0.79      0.71      0.75        31\n",
      "           5       0.87      0.68      0.76        19\n",
      "           6       0.72      0.86      0.78        50\n",
      "\n",
      "    accuracy                           0.84       387\n",
      "   macro avg       0.80      0.78      0.77       387\n",
      "weighted avg       0.86      0.84      0.84       387\n",
      "\n"
     ]
    }
   ],
   "source": [
    "predictions = model.predict(X_test)\n",
    "predictions = np.argmax(predictions, axis=1)\n",
    "print(predictions)\n",
    "\n",
    "#print performance to compare with previous RF versions\n",
    "from sklearn.metrics import classification_report\n",
    "\n",
    "print(classification_report(y_test, predictions))"
   ]
  }
 ],
 "metadata": {
  "kernelspec": {
   "display_name": "base",
   "language": "python",
   "name": "python3"
  },
  "language_info": {
   "codemirror_mode": {
    "name": "ipython",
    "version": 3
   },
   "file_extension": ".py",
   "mimetype": "text/x-python",
   "name": "python",
   "nbconvert_exporter": "python",
   "pygments_lexer": "ipython3",
   "version": "3.10.9"
  }
 },
 "nbformat": 4,
 "nbformat_minor": 2
}
