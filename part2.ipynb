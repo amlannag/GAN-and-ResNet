{
 "cells": [
  {
   "cell_type": "code",
   "execution_count": 1,
   "metadata": {},
   "outputs": [
    {
     "name": "stderr",
     "output_type": "stream",
     "text": [
      "/Users/amlannag/anaconda3/lib/python3.10/site-packages/pandas/core/arrays/masked.py:60: UserWarning: Pandas requires version '1.3.6' or newer of 'bottleneck' (version '1.3.5' currently installed).\n",
      "  from pandas.core import (\n"
     ]
    }
   ],
   "source": [
    "import tensorflow as tf\n",
    "from tensorflow.keras.layers import Input, Conv2D, MaxPooling2D, Flatten, Dense\n",
    "from tensorflow.keras.models import Model\n",
    "from tensorflow.keras.utils import to_categorical\n",
    "from tensorflow.keras.datasets import mnist\n",
    "from sklearn.datasets import fetch_lfw_people\n",
    "from sklearn.model_selection import train_test_split\n",
    "from sklearn.metrics import classification_report\n",
    "import numpy as np\n",
    "import matplotlib.pyplot as plt"
   ]
  },
  {
   "cell_type": "code",
   "execution_count": 21,
   "metadata": {},
   "outputs": [],
   "source": [
    "lfw_people = fetch_lfw_people(min_faces_per_person=70, resize=0.4)"
   ]
  },
  {
   "cell_type": "code",
   "execution_count": 3,
   "metadata": {},
   "outputs": [
    {
     "name": "stdout",
     "output_type": "stream",
     "text": [
      "X_min: 0.0 X_train_max: 1.0\n",
      "X_train shape: (901, 50, 37, 1)\n"
     ]
    }
   ],
   "source": [
    "X = lfw_people.images\n",
    "Y = lfw_people.target\n",
    "# Verify the value range of X_train. No normalization is necessary in this case,\n",
    "# as the input values already fall within the range of 0.0 to 1.0.\n",
    "print(\"X_min:\",X.min(),\"X_train_max:\", X.max())\n",
    "X_train, X_test, y_train, y_test = train_test_split(X, Y, test_size=0.3, random_state=42)\n",
    "X_train = X_train[:, :, :,np.newaxis]\n",
    "X_test = X_test[:, :, :,np.newaxis]\n",
    "print(\"X_train shape:\", X_train.shape)"
   ]
  },
  {
   "cell_type": "code",
   "execution_count": 4,
   "metadata": {},
   "outputs": [
    {
     "data": {
      "image/png": "[encoded data removed]",
      "text/plain": [
       "<Figure size 640x480 with 1 Axes>"
      ]
     },
     "metadata": {},
     "output_type": "display_data"
    }
   ],
   "source": [
    "plt.imshow(X_train[0,:,:,0], cmap='gray')\n",
    "plt.show()"
   ]
  },
  {
   "cell_type": "code",
   "execution_count": 5,
   "metadata": {},
   "outputs": [
    {
     "name": "stdout",
     "output_type": "stream",
     "text": [
      "Ariel Sharon: 77\n",
      "Colin Powell: 236\n",
      "Donald Rumsfeld: 121\n",
      "George W Bush: 530\n",
      "Gerhard Schroeder: 109\n",
      "Hugo Chavez: 71\n",
      "Tony Blair: 144\n"
     ]
    }
   ],
   "source": [
    "targets = lfw_people.target\n",
    "target_names = lfw_people.target_names\n",
    "\n",
    "# Count the number of occurrences for each target (person)\n",
    "category_counts = np.bincount(targets)\n",
    "\n",
    "# Display the number of occurrences for each category\n",
    "for name, count in zip(target_names, category_counts):\n",
    "    print(f\"{name}: {count}\")"
   ]
  },
  {
   "cell_type": "code",
   "execution_count": 6,
   "metadata": {},
   "outputs": [
    {
     "name": "stdout",
     "output_type": "stream",
     "text": [
      "Number of unique categories in y_train: 7\n",
      "H 50\n",
      "W 37\n"
     ]
    }
   ],
   "source": [
    "n_samples, h, w = lfw_people.images.shape\n",
    "n_classes = len(np.unique(y_train))\n",
    "print(\"Number of unique categories in y_train:\", n_classes)\n",
    "print(\"H\",h)\n",
    "print(\"W\",w)"
   ]
  },
  {
   "cell_type": "code",
   "execution_count": 7,
   "metadata": {},
   "outputs": [],
   "source": [
    "depth = 32 #how much encoding to apply\n",
    "batch_size = 256\n",
    "epochs = 1\n",
    "categories = n_classes\n"
   ]
  },
  {
   "cell_type": "code",
   "execution_count": 8,
   "metadata": {},
   "outputs": [],
   "source": [
    "inputs = Input(shape=(h,w,1))\n",
    "net1 = Conv2D(filters = 32, kernel_size = (3,3), padding=\"same\", activation=\"relu\")(inputs)\n",
    "pool1 = MaxPooling2D(pool_size=(2,2))(net1)\n",
    "net2 = Conv2D(filters = 32, kernel_size = (3,3), padding=\"same\", activation=\"relu\")(pool1)\n",
    "pool2 = MaxPooling2D(pool_size=(2,2))(net2)\n",
    "flat = Flatten()(pool2)\n",
    "net3 = Dense(128, activation=\"relu\")(flat)\n",
    "output = Dense(categories, activation=\"softmax\")(net3)"
   ]
  },
  {
   "cell_type": "code",
   "execution_count": 26,
   "metadata": {},
   "outputs": [],
   "source": [
    "model = Model(inputs, output)\n",
    "\n",
    "model.compile(optimizer= tf.keras.optimizers.Adam(learning_rate=0.001), loss='categorical_crossentropy', metrics=['accuracy'])"
   ]
  },
  {
   "cell_type": "code",
   "execution_count": 13,
   "metadata": {},
   "outputs": [],
   "source": [
    "y_train_cat = to_categorical(y_train, categories)\n",
    "y_test_cat = to_categorical(y_test, categories)"
   ]
  },
  {
   "cell_type": "code",
   "execution_count": 28,
   "metadata": {},
   "outputs": [
    {
     "name": "stdout",
     "output_type": "stream",
     "text": [
      "Epoch 1/10\n",
      "\u001b[1m4/4\u001b[0m \u001b[32m━━━━━━━━━━━━━━━━━━━━\u001b[0m\u001b[37m\u001b[0m \u001b[1m1s\u001b[0m 174ms/step - accuracy: 0.4841 - loss: 1.4783 - val_accuracy: 0.4393 - val_loss: 1.5228\n",
      "Epoch 2/10\n",
      "\u001b[1m4/4\u001b[0m \u001b[32m━━━━━━━━━━━━━━━━━━━━\u001b[0m\u001b[37m\u001b[0m \u001b[1m1s\u001b[0m 246ms/step - accuracy: 0.4843 - loss: 1.4341 - val_accuracy: 0.4625 - val_loss: 1.4931\n",
      "Epoch 3/10\n",
      "\u001b[1m4/4\u001b[0m \u001b[32m━━━━━━━━━━━━━━━━━━━━\u001b[0m\u001b[37m\u001b[0m \u001b[1m1s\u001b[0m 191ms/step - accuracy: 0.4918 - loss: 1.3984 - val_accuracy: 0.4574 - val_loss: 1.4719\n",
      "Epoch 4/10\n",
      "\u001b[1m4/4\u001b[0m \u001b[32m━━━━━━━━━━━━━━━━━━━━\u001b[0m\u001b[37m\u001b[0m \u001b[1m1s\u001b[0m 196ms/step - accuracy: 0.4908 - loss: 1.3687 - val_accuracy: 0.4729 - val_loss: 1.4360\n",
      "Epoch 5/10\n",
      "\u001b[1m4/4\u001b[0m \u001b[32m━━━━━━━━━━━━━━━━━━━━\u001b[0m\u001b[37m\u001b[0m \u001b[1m1s\u001b[0m 193ms/step - accuracy: 0.5285 - loss: 1.3155 - val_accuracy: 0.4884 - val_loss: 1.4062\n",
      "Epoch 6/10\n",
      "\u001b[1m4/4\u001b[0m \u001b[32m━━━━━━━━━━━━━━━━━━━━\u001b[0m\u001b[37m\u001b[0m \u001b[1m1s\u001b[0m 195ms/step - accuracy: 0.5421 - loss: 1.2870 - val_accuracy: 0.5065 - val_loss: 1.3816\n",
      "Epoch 7/10\n",
      "\u001b[1m4/4\u001b[0m \u001b[32m━━━━━━━━━━━━━━━━━━━━\u001b[0m\u001b[37m\u001b[0m \u001b[1m1s\u001b[0m 193ms/step - accuracy: 0.5516 - loss: 1.2401 - val_accuracy: 0.5297 - val_loss: 1.3509\n",
      "Epoch 8/10\n",
      "\u001b[1m4/4\u001b[0m \u001b[32m━━━━━━━━━━━━━━━━━━━━\u001b[0m\u001b[37m\u001b[0m \u001b[1m1s\u001b[0m 268ms/step - accuracy: 0.5751 - loss: 1.1926 - val_accuracy: 0.5426 - val_loss: 1.3143\n",
      "Epoch 9/10\n",
      "\u001b[1m4/4\u001b[0m \u001b[32m━━━━━━━━━━━━━━━━━━━━\u001b[0m\u001b[37m\u001b[0m \u001b[1m1s\u001b[0m 201ms/step - accuracy: 0.5825 - loss: 1.1602 - val_accuracy: 0.5478 - val_loss: 1.2837\n",
      "Epoch 10/10\n",
      "\u001b[1m4/4\u001b[0m \u001b[32m━━━━━━━━━━━━━━━━━━━━\u001b[0m\u001b[37m\u001b[0m \u001b[1m1s\u001b[0m 195ms/step - accuracy: 0.5818 - loss: 1.1255 - val_accuracy: 0.5788 - val_loss: 1.2522\n"
     ]
    },
    {
     "data": {
      "text/plain": [
       "<keras.src.callbacks.history.History at 0x3178f98a0>"
      ]
     },
     "execution_count": 28,
     "metadata": {},
     "output_type": "execute_result"
    }
   ],
   "source": [
    "model.fit(X_train, y_train_cat,\n",
    "                epochs=10,\n",
    "                batch_size=batch_size,\n",
    "                shuffle=True,\n",
    "                validation_data=(X_test, y_test_cat))"
   ]
  },
  {
   "cell_type": "code",
   "execution_count": 29,
   "metadata": {},
   "outputs": [
    {
     "name": "stdout",
     "output_type": "stream",
     "text": [
      "\u001b[1m13/13\u001b[0m \u001b[32m━━━━━━━━━━━━━━━━━━━━\u001b[0m\u001b[37m\u001b[0m \u001b[1m0s\u001b[0m 8ms/step\n",
      "[3 3 1 3 3 1 3 6 3 3 3 3 6 3 2 3 3 3 3 2 3 3 6 1 3 3 3 3 3 3 1 3 2 3 3 1 3\n",
      " 3 1 1 1 3 1 1 1 3 1 3 1 6 1 1 3 3 3 3 3 3 3 3 3 3 3 1 6 1 1 3 3 3 3 3 3 3\n",
      " 3 3 3 3 3 3 3 3 3 3 3 3 3 3 3 3 1 3 3 3 6 3 2 3 3 3 3 3 1 1 3 3 6 3 1 3 1\n",
      " 3 3 3 3 3 3 3 3 3 3 3 3 3 2 3 3 3 1 2 6 3 3 3 3 3 1 1 3 1 3 6 1 4 1 3 3 6\n",
      " 3 3 3 3 1 3 3 3 1 1 3 1 3 3 3 1 3 3 3 1 3 3 3 3 1 3 3 3 1 3 3 1 6 1 3 1 3\n",
      " 3 3 6 1 6 3 3 6 3 1 2 3 3 3 3 3 3 2 3 1 3 3 1 3 1 3 3 1 2 3 3 6 3 3 1 3 3\n",
      " 3 6 3 3 3 2 3 6 3 3 3 1 3 1 1 3 2 1 2 3 1 2 3 3 1 3 3 1 1 1 3 3 1 3 3 3 1\n",
      " 1 2 3 1 1 1 3 3 1 1 3 3 6 3 3 3 3 3 1 1 3 2 3 3 3 3 3 3 1 3 1 3 6 3 3 1 6\n",
      " 3 1 3 3 3 2 1 3 3 1 1 3 2 3 1 3 2 3 1 6 3 3 3 6 1 1 1 1 3 1 3 2 3 6 3 1 3\n",
      " 3 3 3 3 3 3 1 3 3 3 2 3 3 3 3 3 1 3 3 3 3 6 1 1 3 3 3 3 3 2 3 2 1 3 3 3 3\n",
      " 1 3 3 3 3 3 3 3 2 3 1 2 3 1 3 3 3]\n",
      "              precision    recall  f1-score   support\n",
      "\n",
      "           0       0.00      0.00      0.00        25\n",
      "           1       0.62      0.74      0.67        74\n",
      "           2       0.58      0.36      0.44        39\n",
      "           3       0.55      0.91      0.69       150\n",
      "           4       1.00      0.04      0.07        27\n",
      "           5       0.00      0.00      0.00        19\n",
      "           6       0.71      0.32      0.44        53\n",
      "\n",
      "    accuracy                           0.58       387\n",
      "   macro avg       0.49      0.34      0.33       387\n",
      "weighted avg       0.56      0.58      0.51       387\n",
      "\n"
     ]
    },
    {
     "name": "stderr",
     "output_type": "stream",
     "text": [
      "/Users/amlannag/anaconda3/lib/python3.10/site-packages/sklearn/metrics/_classification.py:1344: UndefinedMetricWarning: Precision and F-score are ill-defined and being set to 0.0 in labels with no predicted samples. Use `zero_division` parameter to control this behavior.\n",
      "  _warn_prf(average, modifier, msg_start, len(result))\n",
      "/Users/amlannag/anaconda3/lib/python3.10/site-packages/sklearn/metrics/_classification.py:1344: UndefinedMetricWarning: Precision and F-score are ill-defined and being set to 0.0 in labels with no predicted samples. Use `zero_division` parameter to control this behavior.\n",
      "  _warn_prf(average, modifier, msg_start, len(result))\n",
      "/Users/amlannag/anaconda3/lib/python3.10/site-packages/sklearn/metrics/_classification.py:1344: UndefinedMetricWarning: Precision and F-score are ill-defined and being set to 0.0 in labels with no predicted samples. Use `zero_division` parameter to control this behavior.\n",
      "  _warn_prf(average, modifier, msg_start, len(result))\n"
     ]
    }
   ],
   "source": [
    "predictions = model.predict(X_test)\n",
    "predictions = np.argmax(predictions, axis=1)\n",
    "print(predictions)\n",
    "\n",
    "#print performance to compare with previous RF versions\n",
    "from sklearn.metrics import classification_report\n",
    "\n",
    "print(classification_report(y_test, predictions))"
   ]
  },
  {
   "cell_type": "code",
   "execution_count": 30,
   "metadata": {},
   "outputs": [
    {
     "name": "stdout",
     "output_type": "stream",
     "text": [
      "Epoch 1/5\n",
      "\u001b[1m4/4\u001b[0m \u001b[32m━━━━━━━━━━━━━━━━━━━━\u001b[0m\u001b[37m\u001b[0m \u001b[1m2s\u001b[0m 334ms/step - accuracy: 0.5946 - loss: 1.1017 - val_accuracy: 0.5659 - val_loss: 1.2481\n",
      "Epoch 2/5\n",
      "\u001b[1m4/4\u001b[0m \u001b[32m━━━━━━━━━━━━━━━━━━━━\u001b[0m\u001b[37m\u001b[0m \u001b[1m1s\u001b[0m 205ms/step - accuracy: 0.5913 - loss: 1.1083 - val_accuracy: 0.5736 - val_loss: 1.2470\n",
      "Epoch 3/5\n",
      "\u001b[1m4/4\u001b[0m \u001b[32m━━━━━━━━━━━━━━━━━━━━\u001b[0m\u001b[37m\u001b[0m \u001b[1m1s\u001b[0m 329ms/step - accuracy: 0.5982 - loss: 1.0892 - val_accuracy: 0.5762 - val_loss: 1.2475\n",
      "Epoch 4/5\n",
      "\u001b[1m4/4\u001b[0m \u001b[32m━━━━━━━━━━━━━━━━━━━━\u001b[0m\u001b[37m\u001b[0m \u001b[1m1s\u001b[0m 192ms/step - accuracy: 0.6002 - loss: 1.0910 - val_accuracy: 0.5633 - val_loss: 1.2467\n",
      "Epoch 5/5\n",
      "\u001b[1m4/4\u001b[0m \u001b[32m━━━━━━━━━━━━━━━━━━━━\u001b[0m\u001b[37m\u001b[0m \u001b[1m1s\u001b[0m 191ms/step - accuracy: 0.5937 - loss: 1.0949 - val_accuracy: 0.5659 - val_loss: 1.2469\n"
     ]
    },
    {
     "data": {
      "text/plain": [
       "<keras.src.callbacks.history.History at 0x31917ab60>"
      ]
     },
     "execution_count": 30,
     "metadata": {},
     "output_type": "execute_result"
    }
   ],
   "source": [
    "model2 = Model(inputs, output)\n",
    "\n",
    "\n",
    "model2.compile(\n",
    "    optimizer=tf.keras.optimizers.SGD(\n",
    "    learning_rate=0.0005,\n",
    "    momentum=0.9,\n",
    "    nesterov=False,\n",
    "    name=\"SGD\"), \n",
    "    loss='categorical_crossentropy', \n",
    "               metrics=['accuracy'])\n",
    "\n",
    "model2.fit(X_train, y_train_cat,\n",
    "                epochs=epochs,\n",
    "                batch_size=batch_size,\n",
    "                shuffle=True,\n",
    "                validation_data=(X_test, y_test_cat))\n",
    "\n"
   ]
  },
  {
   "cell_type": "code",
   "execution_count": 31,
   "metadata": {},
   "outputs": [
    {
     "name": "stdout",
     "output_type": "stream",
     "text": [
      "\u001b[1m13/13\u001b[0m \u001b[32m━━━━━━━━━━━━━━━━━━━━\u001b[0m\u001b[37m\u001b[0m \u001b[1m0s\u001b[0m 9ms/step\n",
      "[3 3 1 3 3 1 3 3 3 3 3 3 6 3 2 3 3 3 3 2 3 3 6 1 3 3 3 3 3 3 1 3 2 3 3 1 3\n",
      " 3 1 1 1 3 1 1 1 3 1 3 1 3 1 1 3 3 3 3 3 3 3 3 3 3 3 1 6 1 1 3 3 3 3 3 3 3\n",
      " 3 3 3 3 3 3 3 3 3 3 3 3 3 3 3 3 1 3 3 3 6 3 2 3 3 3 3 3 1 1 3 3 6 3 1 3 1\n",
      " 3 3 3 3 3 3 3 3 3 3 3 3 3 2 3 3 3 1 2 6 3 3 3 3 3 1 1 3 1 3 3 1 3 1 3 3 1\n",
      " 3 3 3 3 1 3 3 3 1 1 3 1 3 3 3 1 3 3 3 1 3 3 3 3 1 3 3 3 1 3 1 1 6 1 3 1 3\n",
      " 3 3 6 1 6 3 3 3 3 1 2 3 3 3 3 3 3 2 3 1 3 3 1 3 1 3 3 1 2 3 3 2 3 3 1 3 3\n",
      " 3 6 3 3 3 2 3 6 3 3 3 1 3 1 1 3 2 1 2 3 1 1 3 3 1 3 3 1 1 1 3 3 1 3 3 3 1\n",
      " 1 2 3 1 1 1 3 3 1 1 3 3 6 3 3 3 3 3 1 1 3 2 3 3 3 3 3 3 1 3 1 3 6 3 3 1 6\n",
      " 3 1 3 3 3 2 1 3 3 1 1 3 2 3 1 3 3 3 1 6 3 3 3 1 1 1 3 1 3 1 3 2 3 6 3 1 3\n",
      " 3 3 1 3 3 3 1 3 3 3 2 3 3 3 3 3 1 3 3 3 1 6 1 1 3 3 3 3 3 2 3 2 1 3 3 3 3\n",
      " 1 3 3 3 3 3 3 3 1 3 1 2 3 1 3 3 3]\n",
      "              precision    recall  f1-score   support\n",
      "\n",
      "           0       0.00      0.00      0.00        25\n",
      "           1       0.59      0.76      0.66        74\n",
      "           2       0.68      0.38      0.49        39\n",
      "           3       0.54      0.91      0.67       150\n",
      "           4       0.00      0.00      0.00        27\n",
      "           5       0.00      0.00      0.00        19\n",
      "           6       0.71      0.23      0.34        53\n",
      "\n",
      "    accuracy                           0.57       387\n",
      "   macro avg       0.36      0.32      0.31       387\n",
      "weighted avg       0.49      0.57      0.48       387\n",
      "\n"
     ]
    },
    {
     "name": "stderr",
     "output_type": "stream",
     "text": [
      "/Users/amlannag/anaconda3/lib/python3.10/site-packages/sklearn/metrics/_classification.py:1344: UndefinedMetricWarning: Precision and F-score are ill-defined and being set to 0.0 in labels with no predicted samples. Use `zero_division` parameter to control this behavior.\n",
      "  _warn_prf(average, modifier, msg_start, len(result))\n",
      "/Users/amlannag/anaconda3/lib/python3.10/site-packages/sklearn/metrics/_classification.py:1344: UndefinedMetricWarning: Precision and F-score are ill-defined and being set to 0.0 in labels with no predicted samples. Use `zero_division` parameter to control this behavior.\n",
      "  _warn_prf(average, modifier, msg_start, len(result))\n",
      "/Users/amlannag/anaconda3/lib/python3.10/site-packages/sklearn/metrics/_classification.py:1344: UndefinedMetricWarning: Precision and F-score are ill-defined and being set to 0.0 in labels with no predicted samples. Use `zero_division` parameter to control this behavior.\n",
      "  _warn_prf(average, modifier, msg_start, len(result))\n"
     ]
    }
   ],
   "source": [
    "predictions = model2.predict(X_test)\n",
    "predictions = np.argmax(predictions, axis=1)\n",
    "print(predictions)\n",
    "\n",
    "#print performance to compare with previous RF versions\n",
    "from sklearn.metrics import classification_report\n",
    "\n",
    "print(classification_report(y_test, predictions))"
   ]
  }
 ],
 "metadata": {
  "kernelspec": {
   "display_name": "base",
   "language": "python",
   "name": "python3"
  },
  "language_info": {
   "codemirror_mode": {
    "name": "ipython",
    "version": 3
   },
   "file_extension": ".py",
   "mimetype": "text/x-python",
   "name": "python",
   "nbconvert_exporter": "python",
   "pygments_lexer": "ipython3",
   "version": "3.10.9"
  }
 },
 "nbformat": 4,
 "nbformat_minor": 2
}
