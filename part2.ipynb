{
 "cells": [
  {
   "cell_type": "code",
   "execution_count": 1,
   "metadata": {},
   "outputs": [
    {
     "name": "stderr",
     "output_type": "stream",
     "text": [
      "/Users/amlannag/anaconda3/lib/python3.10/site-packages/pandas/core/arrays/masked.py:60: UserWarning: Pandas requires version '1.3.6' or newer of 'bottleneck' (version '1.3.5' currently installed).\n",
      "  from pandas.core import (\n"
     ]
    }
   ],
   "source": [
    "import tensorflow as tf\n",
    "from tensorflow.keras.layers import Input, Conv2D, MaxPooling2D, Flatten, Dense\n",
    "from tensorflow.keras.models import Model\n",
    "from tensorflow.keras.utils import to_categorical\n",
    "from tensorflow.keras.datasets import mnist\n",
    "from sklearn.datasets import fetch_lfw_people\n",
    "from sklearn.model_selection import train_test_split\n",
    "from sklearn.metrics import classification_report\n",
    "import numpy as np\n",
    "import matplotlib.pyplot as plt"
   ]
  },
  {
   "cell_type": "code",
   "execution_count": 2,
   "metadata": {},
   "outputs": [],
   "source": [
    "lfw_people = fetch_lfw_people(min_faces_per_person=70, resize=0.4)"
   ]
  },
  {
   "cell_type": "code",
   "execution_count": 3,
   "metadata": {},
   "outputs": [
    {
     "name": "stdout",
     "output_type": "stream",
     "text": [
      "X_min: 0.0 X_train_max: 1.0\n",
      "X_train shape: (901, 50, 37, 1)\n"
     ]
    }
   ],
   "source": [
    "X = lfw_people.images\n",
    "Y = lfw_people.target\n",
    "print(\"X_min:\",X.min(),\"X_train_max:\", X.max())\n",
    "X_train, X_test, y_train, y_test = train_test_split(X, Y, test_size=0.3, random_state=42)\n",
    "X_train = X_train[:, :, :,np.newaxis]\n",
    "X_test = X_test[:, :, :,np.newaxis]\n",
    "print(\"X_train shape:\", X_train.shape)"
   ]
  },
  {
   "cell_type": "code",
   "execution_count": 4,
   "metadata": {},
   "outputs": [],
   "source": [
    "n_samples, h, w = lfw_people.images.shape\n",
    "n_classes = len(np.unique(y_train))\n",
    "batch_size = 256\n",
    "epochs = 1\n",
    "categories = n_classes"
   ]
  },
  {
   "cell_type": "code",
   "execution_count": 5,
   "metadata": {},
   "outputs": [],
   "source": [
    "inputs = Input(shape=(h,w,1))\n",
    "net1 = Conv2D(filters = 32, kernel_size = (3,3), padding=\"same\", activation=\"relu\")(inputs)\n",
    "pool1 = MaxPooling2D(pool_size=(2,2))(net1)\n",
    "net2 = Conv2D(filters = 32, kernel_size = (3,3), padding=\"same\", activation=\"relu\")(pool1)\n",
    "pool2 = MaxPooling2D(pool_size=(2,2))(net2)\n",
    "flat = Flatten()(pool2)\n",
    "net3 = Dense(128, activation=\"relu\")(flat)\n",
    "output = Dense(categories, activation=\"softmax\")(net3)"
   ]
  },
  {
   "cell_type": "code",
   "execution_count": 6,
   "metadata": {},
   "outputs": [],
   "source": [
    "y_train_cat = to_categorical(y_train, categories)\n",
    "y_test_cat = to_categorical(y_test, categories)"
   ]
  },
  {
   "cell_type": "code",
   "execution_count": 11,
   "metadata": {},
   "outputs": [
    {
     "name": "stdout",
     "output_type": "stream",
     "text": [
      "Epoch 1/5\n",
      "\u001b[1m4/4\u001b[0m \u001b[32m━━━━━━━━━━━━━━━━━━━━\u001b[0m\u001b[37m\u001b[0m \u001b[1m1s\u001b[0m 138ms/step - accuracy: 0.6610 - loss: 0.9635 - val_accuracy: 0.5349 - val_loss: 1.1833\n",
      "Epoch 2/5\n",
      "\u001b[1m4/4\u001b[0m \u001b[32m━━━━━━━━━━━━━━━━━━━━\u001b[0m\u001b[37m\u001b[0m \u001b[1m0s\u001b[0m 91ms/step - accuracy: 0.5831 - loss: 1.0113 - val_accuracy: 0.7158 - val_loss: 0.9325\n",
      "Epoch 3/5\n",
      "\u001b[1m4/4\u001b[0m \u001b[32m━━━━━━━━━━━━━━━━━━━━\u001b[0m\u001b[37m\u001b[0m \u001b[1m1s\u001b[0m 142ms/step - accuracy: 0.7764 - loss: 0.8199 - val_accuracy: 0.6667 - val_loss: 0.9788\n",
      "Epoch 4/5\n",
      "\u001b[1m4/4\u001b[0m \u001b[32m━━━━━━━━━━━━━━━━━━━━\u001b[0m\u001b[37m\u001b[0m \u001b[1m1s\u001b[0m 209ms/step - accuracy: 0.7126 - loss: 0.8141 - val_accuracy: 0.7339 - val_loss: 0.8474\n",
      "Epoch 5/5\n",
      "\u001b[1m4/4\u001b[0m \u001b[32m━━━━━━━━━━━━━━━━━━━━\u001b[0m\u001b[37m\u001b[0m \u001b[1m1s\u001b[0m 193ms/step - accuracy: 0.7633 - loss: 0.7412 - val_accuracy: 0.7339 - val_loss: 0.8366\n"
     ]
    },
    {
     "data": {
      "text/plain": [
       "<keras.src.callbacks.history.History at 0x31f4edc00>"
      ]
     },
     "execution_count": 11,
     "metadata": {},
     "output_type": "execute_result"
    }
   ],
   "source": [
    "model = Model(inputs, output)\n",
    "\n",
    "model.compile(optimizer= tf.keras.optimizers.Adam(learning_rate=0.001), loss='categorical_crossentropy', metrics=['accuracy'])\n",
    "\n",
    "model.fit(X_train, y_train_cat,\n",
    "                epochs=5,\n",
    "                batch_size=batch_size,\n",
    "                shuffle=True,\n",
    "                validation_data=(X_test, y_test_cat))"
   ]
  },
  {
   "cell_type": "code",
   "execution_count": 12,
   "metadata": {},
   "outputs": [
    {
     "name": "stdout",
     "output_type": "stream",
     "text": [
      "\u001b[1m13/13\u001b[0m \u001b[32m━━━━━━━━━━━━━━━━━━━━\u001b[0m\u001b[37m\u001b[0m \u001b[1m0s\u001b[0m 8ms/step\n",
      "[3 3 6 3 3 3 4 1 3 3 3 4 3 4 3 3 3 3 3 4 1 6 3 3 1 1 3 3 3 3 3 3 3 3 3 3 3\n",
      " 3 3 1 3 1 3 1 1 1 4 3 4 3 3 3 3 3 6 2 1 3 3 3 1 1 1 4 3 5 6 4 6 3 6 6 3 3\n",
      " 3 2 1 6 3 3 3 3 4 3 3 3 3 3 3 3 3 3 3 3 1 3 1 1 6 6 3 3 3 1 3 3 3 3 3 1 3\n",
      " 1 6 4 3 3 3 3 1 3 1 3 3 0 3 4 4 3 1 3 6 6 6 4 4 6 3 3 1 6 2 3 3 1 3 4 1 3\n",
      " 6 1 1 6 1 3 3 3 6 3 1 0 6 3 3 1 3 1 5 1 3 3 1 1 3 1 4 3 3 2 2 3 3 3 3 6 3\n",
      " 3 3 3 3 2 3 2 3 2 6 3 3 6 3 6 3 2 1 2 3 2 6 2 1 2 1 3 3 3 3 4 3 3 0 3 3 3\n",
      " 1 1 6 3 3 3 6 3 3 3 1 3 3 1 6 6 2 3 3 3 2 2 3 0 3 3 3 4 4 3 3 4 3 4 3 1 3\n",
      " 3 3 3 6 1 3 4 1 1 4 6 1 1 3 3 3 3 3 3 3 3 1 3 3 3 1 0 3 3 3 4 3 3 3 3 3 1\n",
      " 4 5 3 6 3 5 6 2 1 3 6 3 3 3 3 3 1 6 3 3 3 1 3 2 3 2 2 1 2 3 4 6 3 6 6 4 2\n",
      " 3 6 1 6 4 3 3 3 3 6 3 1 6 6 3 4 1 6 3 4 5 3 1 3 1 6 3 3 2 3 3 1 0 3 6 6 3\n",
      " 3 3 3 6 4 3 1 0 1 3 6 3 3 3 6 6 2]\n",
      "              precision    recall  f1-score   support\n",
      "\n",
      "           0       0.71      0.28      0.40        18\n",
      "           1       0.86      0.80      0.83        69\n",
      "           2       0.71      0.50      0.59        34\n",
      "           3       0.74      0.91      0.81       166\n",
      "           4       0.55      0.55      0.55        31\n",
      "           5       0.60      0.16      0.25        19\n",
      "           6       0.71      0.72      0.71        50\n",
      "\n",
      "    accuracy                           0.73       387\n",
      "   macro avg       0.70      0.56      0.59       387\n",
      "weighted avg       0.73      0.73      0.72       387\n",
      "\n"
     ]
    }
   ],
   "source": [
    "predictions = model.predict(X_test)\n",
    "predictions = np.argmax(predictions, axis=1)\n",
    "print(predictions)\n",
    "\n",
    "#print performance to compare with previous RF versions\n",
    "from sklearn.metrics import classification_report\n",
    "\n",
    "print(classification_report(y_test, predictions))"
   ]
  },
  {
   "cell_type": "code",
   "execution_count": 13,
   "metadata": {},
   "outputs": [
    {
     "name": "stdout",
     "output_type": "stream",
     "text": [
      "Epoch 1/20\n",
      "\u001b[1m4/4\u001b[0m \u001b[32m━━━━━━━━━━━━━━━━━━━━\u001b[0m\u001b[37m\u001b[0m \u001b[1m1s\u001b[0m 267ms/step - accuracy: 0.7943 - loss: 0.6849 - val_accuracy: 0.7287 - val_loss: 0.8319\n",
      "Epoch 2/20\n",
      "\u001b[1m4/4\u001b[0m \u001b[32m━━━━━━━━━━━━━━━━━━━━\u001b[0m\u001b[37m\u001b[0m \u001b[1m1s\u001b[0m 189ms/step - accuracy: 0.7861 - loss: 0.6922 - val_accuracy: 0.7313 - val_loss: 0.8206\n",
      "Epoch 3/20\n",
      "\u001b[1m4/4\u001b[0m \u001b[32m━━━━━━━━━━━━━━━━━━━━\u001b[0m\u001b[37m\u001b[0m \u001b[1m1s\u001b[0m 191ms/step - accuracy: 0.7950 - loss: 0.6796 - val_accuracy: 0.7442 - val_loss: 0.8087\n",
      "Epoch 4/20\n",
      "\u001b[1m4/4\u001b[0m \u001b[32m━━━━━━━━━━━━━━━━━━━━\u001b[0m\u001b[37m\u001b[0m \u001b[1m1s\u001b[0m 195ms/step - accuracy: 0.7984 - loss: 0.6572 - val_accuracy: 0.7442 - val_loss: 0.8043\n",
      "Epoch 5/20\n",
      "\u001b[1m4/4\u001b[0m \u001b[32m━━━━━━━━━━━━━━━━━━━━\u001b[0m\u001b[37m\u001b[0m \u001b[1m1s\u001b[0m 197ms/step - accuracy: 0.8029 - loss: 0.6539 - val_accuracy: 0.7545 - val_loss: 0.7983\n",
      "Epoch 6/20\n",
      "\u001b[1m4/4\u001b[0m \u001b[32m━━━━━━━━━━━━━━━━━━━━\u001b[0m\u001b[37m\u001b[0m \u001b[1m1s\u001b[0m 196ms/step - accuracy: 0.8140 - loss: 0.6318 - val_accuracy: 0.7571 - val_loss: 0.7922\n",
      "Epoch 7/20\n",
      "\u001b[1m4/4\u001b[0m \u001b[32m━━━━━━━━━━━━━━━━━━━━\u001b[0m\u001b[37m\u001b[0m \u001b[1m1s\u001b[0m 194ms/step - accuracy: 0.8119 - loss: 0.6267 - val_accuracy: 0.7519 - val_loss: 0.7889\n",
      "Epoch 8/20\n",
      "\u001b[1m4/4\u001b[0m \u001b[32m━━━━━━━━━━━━━━━━━━━━\u001b[0m\u001b[37m\u001b[0m \u001b[1m1s\u001b[0m 199ms/step - accuracy: 0.8081 - loss: 0.6313 - val_accuracy: 0.7494 - val_loss: 0.7890\n",
      "Epoch 9/20\n",
      "\u001b[1m4/4\u001b[0m \u001b[32m━━━━━━━━━━━━━━━━━━━━\u001b[0m\u001b[37m\u001b[0m \u001b[1m1s\u001b[0m 197ms/step - accuracy: 0.8034 - loss: 0.6194 - val_accuracy: 0.7571 - val_loss: 0.7809\n",
      "Epoch 10/20\n",
      "\u001b[1m4/4\u001b[0m \u001b[32m━━━━━━━━━━━━━━━━━━━━\u001b[0m\u001b[37m\u001b[0m \u001b[1m1s\u001b[0m 240ms/step - accuracy: 0.8197 - loss: 0.6107 - val_accuracy: 0.7597 - val_loss: 0.7763\n",
      "Epoch 11/20\n",
      "\u001b[1m4/4\u001b[0m \u001b[32m━━━━━━━━━━━━━━━━━━━━\u001b[0m\u001b[37m\u001b[0m \u001b[1m1s\u001b[0m 202ms/step - accuracy: 0.8171 - loss: 0.6073 - val_accuracy: 0.7468 - val_loss: 0.7774\n",
      "Epoch 12/20\n",
      "\u001b[1m4/4\u001b[0m \u001b[32m━━━━━━━━━━━━━━━━━━━━\u001b[0m\u001b[37m\u001b[0m \u001b[1m1s\u001b[0m 225ms/step - accuracy: 0.7962 - loss: 0.6237 - val_accuracy: 0.7468 - val_loss: 0.7766\n",
      "Epoch 13/20\n",
      "\u001b[1m4/4\u001b[0m \u001b[32m━━━━━━━━━━━━━━━━━━━━\u001b[0m\u001b[37m\u001b[0m \u001b[1m1s\u001b[0m 269ms/step - accuracy: 0.8069 - loss: 0.5996 - val_accuracy: 0.7545 - val_loss: 0.7670\n",
      "Epoch 14/20\n",
      "\u001b[1m4/4\u001b[0m \u001b[32m━━━━━━━━━━━━━━━━━━━━\u001b[0m\u001b[37m\u001b[0m \u001b[1m1s\u001b[0m 240ms/step - accuracy: 0.8220 - loss: 0.5839 - val_accuracy: 0.7545 - val_loss: 0.7641\n",
      "Epoch 15/20\n",
      "\u001b[1m4/4\u001b[0m \u001b[32m━━━━━━━━━━━━━━━━━━━━\u001b[0m\u001b[37m\u001b[0m \u001b[1m1s\u001b[0m 234ms/step - accuracy: 0.8120 - loss: 0.5885 - val_accuracy: 0.7545 - val_loss: 0.7622\n",
      "Epoch 16/20\n",
      "\u001b[1m4/4\u001b[0m \u001b[32m━━━━━━━━━━━━━━━━━━━━\u001b[0m\u001b[37m\u001b[0m \u001b[1m1s\u001b[0m 232ms/step - accuracy: 0.8150 - loss: 0.5830 - val_accuracy: 0.7545 - val_loss: 0.7598\n",
      "Epoch 17/20\n",
      "\u001b[1m4/4\u001b[0m \u001b[32m━━━━━━━━━━━━━━━━━━━━\u001b[0m\u001b[37m\u001b[0m \u001b[1m1s\u001b[0m 210ms/step - accuracy: 0.8217 - loss: 0.5821 - val_accuracy: 0.7571 - val_loss: 0.7557\n",
      "Epoch 18/20\n",
      "\u001b[1m4/4\u001b[0m \u001b[32m━━━━━━━━━━━━━━━━━━━━\u001b[0m\u001b[37m\u001b[0m \u001b[1m1s\u001b[0m 188ms/step - accuracy: 0.8128 - loss: 0.5878 - val_accuracy: 0.7545 - val_loss: 0.7546\n",
      "Epoch 19/20\n",
      "\u001b[1m4/4\u001b[0m \u001b[32m━━━━━━━━━━━━━━━━━━━━\u001b[0m\u001b[37m\u001b[0m \u001b[1m1s\u001b[0m 198ms/step - accuracy: 0.8064 - loss: 0.6012 - val_accuracy: 0.7545 - val_loss: 0.7520\n",
      "Epoch 20/20\n",
      "\u001b[1m4/4\u001b[0m \u001b[32m━━━━━━━━━━━━━━━━━━━━\u001b[0m\u001b[37m\u001b[0m \u001b[1m1s\u001b[0m 196ms/step - accuracy: 0.8147 - loss: 0.5783 - val_accuracy: 0.7571 - val_loss: 0.7492\n"
     ]
    },
    {
     "data": {
      "text/plain": [
       "<keras.src.callbacks.history.History at 0x321793c40>"
      ]
     },
     "execution_count": 13,
     "metadata": {},
     "output_type": "execute_result"
    }
   ],
   "source": [
    "model2 = Model(inputs, output)\n",
    "\n",
    "\n",
    "model2.compile(\n",
    "    optimizer=tf.keras.optimizers.SGD(\n",
    "    learning_rate=0.0005,\n",
    "    momentum=0.9,\n",
    "    nesterov=False,\n",
    "    name=\"SGD\"), \n",
    "    loss='categorical_crossentropy', \n",
    "               metrics=['accuracy'])\n",
    "\n",
    "model2.fit(X_train, y_train_cat,\n",
    "                epochs=20,\n",
    "                batch_size=batch_size,\n",
    "                shuffle=True,\n",
    "                validation_data=(X_test, y_test_cat))\n",
    "\n"
   ]
  },
  {
   "cell_type": "code",
   "execution_count": 14,
   "metadata": {},
   "outputs": [
    {
     "name": "stdout",
     "output_type": "stream",
     "text": [
      "\u001b[1m13/13\u001b[0m \u001b[32m━━━━━━━━━━━━━━━━━━━━\u001b[0m\u001b[37m\u001b[0m \u001b[1m0s\u001b[0m 8ms/step\n",
      "[3 3 6 3 3 3 4 1 3 3 3 4 3 4 3 3 3 3 3 4 1 0 3 3 1 1 0 3 3 3 3 3 3 3 3 3 3\n",
      " 3 3 1 3 1 3 1 1 1 4 3 4 3 3 3 3 3 6 2 1 3 3 3 1 1 1 4 0 5 6 4 1 3 6 6 3 3\n",
      " 3 2 1 6 3 3 3 1 4 3 3 3 3 3 3 3 3 6 3 3 1 1 1 1 6 6 3 3 3 1 3 3 3 3 3 1 3\n",
      " 1 6 4 3 3 3 3 1 3 1 3 3 0 3 4 4 3 1 3 6 6 6 5 4 6 3 3 1 6 2 3 3 1 3 6 1 3\n",
      " 6 1 1 1 1 3 3 3 6 3 1 0 6 0 3 1 3 1 5 1 3 3 1 1 3 1 5 3 3 2 2 3 3 3 3 6 3\n",
      " 3 3 3 3 2 3 2 3 2 6 3 3 6 3 6 3 2 1 2 3 2 6 2 1 2 1 3 3 3 3 4 3 3 0 1 3 3\n",
      " 1 1 6 3 3 3 1 3 3 3 1 0 3 1 6 6 2 3 3 5 2 2 3 0 3 3 3 4 4 3 3 4 3 2 3 1 3\n",
      " 3 3 3 6 1 3 4 1 1 3 6 1 1 3 3 3 3 3 3 3 3 1 1 3 3 1 0 3 3 3 3 3 3 3 1 3 1\n",
      " 4 5 3 6 3 5 6 2 1 3 1 3 1 3 3 3 1 6 3 3 3 1 3 2 3 2 2 1 2 5 4 6 3 6 6 5 2\n",
      " 3 6 1 6 4 3 3 2 3 6 3 1 6 1 3 4 1 6 3 4 5 3 1 3 1 6 3 3 2 3 0 1 0 3 6 1 3\n",
      " 3 3 3 6 4 3 1 0 1 3 1 3 3 3 6 6 2]\n",
      "              precision    recall  f1-score   support\n",
      "\n",
      "           0       0.54      0.39      0.45        18\n",
      "           1       0.82      0.91      0.86        69\n",
      "           2       0.69      0.53      0.60        34\n",
      "           3       0.78      0.90      0.84       166\n",
      "           4       0.58      0.45      0.51        31\n",
      "           5       0.50      0.26      0.34        19\n",
      "           6       0.80      0.72      0.76        50\n",
      "\n",
      "    accuracy                           0.76       387\n",
      "   macro avg       0.67      0.60      0.62       387\n",
      "weighted avg       0.74      0.76      0.74       387\n",
      "\n"
     ]
    }
   ],
   "source": [
    "predictions = model2.predict(X_test)\n",
    "predictions = np.argmax(predictions, axis=1)\n",
    "print(predictions)\n",
    "\n",
    "#print performance to compare with previous RF versions\n",
    "from sklearn.metrics import classification_report\n",
    "\n",
    "print(classification_report(y_test, predictions))"
   ]
  }
 ],
 "metadata": {
  "kernelspec": {
   "display_name": "base",
   "language": "python",
   "name": "python3"
  },
  "language_info": {
   "codemirror_mode": {
    "name": "ipython",
    "version": 3
   },
   "file_extension": ".py",
   "mimetype": "text/x-python",
   "name": "python",
   "nbconvert_exporter": "python",
   "pygments_lexer": "ipython3",
   "version": "3.10.9"
  }
 },
 "nbformat": 4,
 "nbformat_minor": 2
}
